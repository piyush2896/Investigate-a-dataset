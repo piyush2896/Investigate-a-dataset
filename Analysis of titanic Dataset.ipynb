{
 "cells": [
  {
   "cell_type": "code",
   "execution_count": 1,
   "metadata": {
    "collapsed": false,
    "deletable": true,
    "editable": true
   },
   "outputs": [],
   "source": [
    "import pandas as pd\n",
    "import numpy as np\n",
    "import matplotlib.pyplot as plt\n",
    "import seaborn as sns\n",
    "%matplotlib inline\n",
    "sns.set_style(style=\"darkgrid\")"
   ]
  },
  {
   "cell_type": "markdown",
   "metadata": {
    "deletable": true,
    "editable": true
   },
   "source": [
    "## Dataset Explained\n",
    "| Variable Name | Definition                                                          \t |\n",
    "|-------------\t|---------------------------------------------------------------------\t |\n",
    "| PassengerId \t| A unique ID to each Passenger; **1-891**                               |\n",
    "| Survived    \t| A boolean variable; **1 - Survived, 0 - Dead**                         |\n",
    "| Pclass      \t| Ticket Class; **1 - 1st, 2 - 2nd, 3 - 3rd class**                      |\n",
    "| Name        \t| Passenger Name                                                      \t |\n",
    "| Sex         \t| Sex of Passenger                                                    \t |\n",
    "| Age         \t| Age in Years                                                        \t |\n",
    "| SibSp       \t|  Number of Siblings / Spouses Aboard                                \t |\n",
    "| Parch       \t| Number of parents / children aboard the titanic                     \t |\n",
    "| Ticket      \t| Ticket number                                                       \t |\n",
    "| Fare        \t| Passenger Fare                                                      \t |\n",
    "| Cabin       \t| Cabin number                                                        \t |\n",
    "| Embarked    \t| Port of Embarkation; **C - Cherbourg, Q - Queenstown, S - Southampton**|\n",
    "<br/>\n",
    "### Some Notes Regarding Dataset\n",
    "**Pclass**: A proxy for socio-economic status (SES)\n",
    "<br/>1st = Upper\n",
    "<br/>2nd = Middle\n",
    "<br/>3rd = Lower\n",
    "<br/><br/>\n",
    "**Age**: Age is fractional if less than 1. If the age is estimated, is it in the form of xx.5\n",
    "<br/><br/>\n",
    "**SibSp**: The dataset defines family relations in this way...\n",
    "<br/>Sibling = brother, sister, stepbrother, stepsister\n",
    "<br/>Spouse = husband, wife (mistresses and fiancés were ignored)\n",
    "<br/><br/>\n",
    "**Parch**: The dataset defines family relations in this way...\n",
    "<br/>Parent = mother, father\n",
    "<br/>Child = daughter, son, stepdaughter, stepson\n",
    "<br/>Some children travelled only with a nanny, therefore parch=0 for them.\n",
    "<br/><br/>\n",
    "<p style=\"text-align:center\">*Source: [Titanic: Machine Learning from Disaster](https://www.kaggle.com/c/titanic/data)*</p>\n",
    "<br/><br/>\n",
    "**Let Us have a sneak peek at Data**"
   ]
  },
  {
   "cell_type": "code",
   "execution_count": 2,
   "metadata": {
    "collapsed": false,
    "deletable": true,
    "editable": true
   },
   "outputs": [
    {
     "data": {
      "text/html": [
       "<div>\n",
       "<table border=\"1\" class=\"dataframe\">\n",
       "  <thead>\n",
       "    <tr style=\"text-align: right;\">\n",
       "      <th></th>\n",
       "      <th>Survived</th>\n",
       "      <th>Pclass</th>\n",
       "      <th>Name</th>\n",
       "      <th>Sex</th>\n",
       "      <th>Age</th>\n",
       "      <th>SibSp</th>\n",
       "      <th>Parch</th>\n",
       "      <th>Ticket</th>\n",
       "      <th>Fare</th>\n",
       "      <th>Cabin</th>\n",
       "      <th>Embarked</th>\n",
       "    </tr>\n",
       "    <tr>\n",
       "      <th>PassengerId</th>\n",
       "      <th></th>\n",
       "      <th></th>\n",
       "      <th></th>\n",
       "      <th></th>\n",
       "      <th></th>\n",
       "      <th></th>\n",
       "      <th></th>\n",
       "      <th></th>\n",
       "      <th></th>\n",
       "      <th></th>\n",
       "      <th></th>\n",
       "    </tr>\n",
       "  </thead>\n",
       "  <tbody>\n",
       "    <tr>\n",
       "      <th>1</th>\n",
       "      <td>0</td>\n",
       "      <td>3</td>\n",
       "      <td>Braund, Mr. Owen Harris</td>\n",
       "      <td>male</td>\n",
       "      <td>22.0</td>\n",
       "      <td>1</td>\n",
       "      <td>0</td>\n",
       "      <td>A/5 21171</td>\n",
       "      <td>7.2500</td>\n",
       "      <td>NaN</td>\n",
       "      <td>S</td>\n",
       "    </tr>\n",
       "    <tr>\n",
       "      <th>2</th>\n",
       "      <td>1</td>\n",
       "      <td>1</td>\n",
       "      <td>Cumings, Mrs. John Bradley (Florence Briggs Th...</td>\n",
       "      <td>female</td>\n",
       "      <td>38.0</td>\n",
       "      <td>1</td>\n",
       "      <td>0</td>\n",
       "      <td>PC 17599</td>\n",
       "      <td>71.2833</td>\n",
       "      <td>C85</td>\n",
       "      <td>C</td>\n",
       "    </tr>\n",
       "    <tr>\n",
       "      <th>3</th>\n",
       "      <td>1</td>\n",
       "      <td>3</td>\n",
       "      <td>Heikkinen, Miss. Laina</td>\n",
       "      <td>female</td>\n",
       "      <td>26.0</td>\n",
       "      <td>0</td>\n",
       "      <td>0</td>\n",
       "      <td>STON/O2. 3101282</td>\n",
       "      <td>7.9250</td>\n",
       "      <td>NaN</td>\n",
       "      <td>S</td>\n",
       "    </tr>\n",
       "    <tr>\n",
       "      <th>4</th>\n",
       "      <td>1</td>\n",
       "      <td>1</td>\n",
       "      <td>Futrelle, Mrs. Jacques Heath (Lily May Peel)</td>\n",
       "      <td>female</td>\n",
       "      <td>35.0</td>\n",
       "      <td>1</td>\n",
       "      <td>0</td>\n",
       "      <td>113803</td>\n",
       "      <td>53.1000</td>\n",
       "      <td>C123</td>\n",
       "      <td>S</td>\n",
       "    </tr>\n",
       "    <tr>\n",
       "      <th>5</th>\n",
       "      <td>0</td>\n",
       "      <td>3</td>\n",
       "      <td>Allen, Mr. William Henry</td>\n",
       "      <td>male</td>\n",
       "      <td>35.0</td>\n",
       "      <td>0</td>\n",
       "      <td>0</td>\n",
       "      <td>373450</td>\n",
       "      <td>8.0500</td>\n",
       "      <td>NaN</td>\n",
       "      <td>S</td>\n",
       "    </tr>\n",
       "  </tbody>\n",
       "</table>\n",
       "</div>"
      ],
      "text/plain": [
       "             Survived  Pclass  \\\n",
       "PassengerId                     \n",
       "1                   0       3   \n",
       "2                   1       1   \n",
       "3                   1       3   \n",
       "4                   1       1   \n",
       "5                   0       3   \n",
       "\n",
       "                                                          Name     Sex   Age  \\\n",
       "PassengerId                                                                    \n",
       "1                                      Braund, Mr. Owen Harris    male  22.0   \n",
       "2            Cumings, Mrs. John Bradley (Florence Briggs Th...  female  38.0   \n",
       "3                                       Heikkinen, Miss. Laina  female  26.0   \n",
       "4                 Futrelle, Mrs. Jacques Heath (Lily May Peel)  female  35.0   \n",
       "5                                     Allen, Mr. William Henry    male  35.0   \n",
       "\n",
       "             SibSp  Parch            Ticket     Fare Cabin Embarked  \n",
       "PassengerId                                                          \n",
       "1                1      0         A/5 21171   7.2500   NaN        S  \n",
       "2                1      0          PC 17599  71.2833   C85        C  \n",
       "3                0      0  STON/O2. 3101282   7.9250   NaN        S  \n",
       "4                1      0            113803  53.1000  C123        S  \n",
       "5                0      0            373450   8.0500   NaN        S  "
      ]
     },
     "execution_count": 2,
     "metadata": {},
     "output_type": "execute_result"
    }
   ],
   "source": [
    "# Read data and see first 5 rows\n",
    "data = pd.read_csv(\"datasets/titanic-data.csv\", index_col=[\"PassengerId\"])\n",
    "data.head()"
   ]
  },
  {
   "cell_type": "markdown",
   "metadata": {
    "deletable": true,
    "editable": true
   },
   "source": [
    "## Some Curious Questions\n",
    "1. Pclass as stated in notes refer to a Socio-economic status. Does it have any effect on survival?<br/><br/>\n",
    "2. Which gender survived more. In other words, does male part survived in more numbers, or does the female part. There can be many good reasons behind this question. Which are discussed ahead.<br/><br/>\n",
    "3. Which parameter have more effect over survival, sex or age? "
   ]
  },
  {
   "cell_type": "markdown",
   "metadata": {
    "deletable": true,
    "editable": true
   },
   "source": [
    "#### Let's see some Information about the data"
   ]
  },
  {
   "cell_type": "code",
   "execution_count": 3,
   "metadata": {
    "collapsed": false,
    "deletable": true,
    "editable": true
   },
   "outputs": [
    {
     "name": "stdout",
     "output_type": "stream",
     "text": [
      "<class 'pandas.core.frame.DataFrame'>\n",
      "Int64Index: 891 entries, 1 to 891\n",
      "Data columns (total 11 columns):\n",
      "Survived    891 non-null int64\n",
      "Pclass      891 non-null int64\n",
      "Name        891 non-null object\n",
      "Sex         891 non-null object\n",
      "Age         714 non-null float64\n",
      "SibSp       891 non-null int64\n",
      "Parch       891 non-null int64\n",
      "Ticket      891 non-null object\n",
      "Fare        891 non-null float64\n",
      "Cabin       204 non-null object\n",
      "Embarked    889 non-null object\n",
      "dtypes: float64(2), int64(4), object(5)\n",
      "memory usage: 83.5+ KB\n"
     ]
    }
   ],
   "source": [
    "data.info()"
   ]
  },
  {
   "cell_type": "markdown",
   "metadata": {
    "deletable": true,
    "editable": true
   },
   "source": [
    "Looking at the data info it is clear that we have 891 entries. <br/><br/>\n",
    "**But there are some missing entries in Age column and quiet a lot of missing details in Cabin column.**<br/>\n",
    "**All the missing values if required will be changed to zero or will be removed from dataset as we proceed and will be noted before making the change.**"
   ]
  },
  {
   "cell_type": "markdown",
   "metadata": {
    "deletable": true,
    "editable": true
   },
   "source": [
    "<hr>\n",
    "### Tackling Question 1.\n",
    "Q. **Pclass as stated in notes refer to a Socio-economic status. Does it have any effect on survival?**\n",
    "<br/><br/>Before going ahead let's visualize it."
   ]
  },
  {
   "cell_type": "code",
   "execution_count": 4,
   "metadata": {
    "collapsed": false,
    "deletable": true,
    "editable": true
   },
   "outputs": [
    {
     "data": {
      "image/png": "[encoded data removed]",
      "text/plain": [
       "<matplotlib.figure.Figure at 0x151488ddba8>"
      ]
     },
     "metadata": {},
     "output_type": "display_data"
    }
   ],
   "source": [
    "# Create a new plt figure\n",
    "plt.figure(0, figsize=(6, 10))\n",
    "plt.suptitle(\"Total Passengers vs. Total Survivers vs. Total Died\", fontsize=18)\n",
    "\n",
    "# add a new subplot in first row\n",
    "# pclass vs total passengers\n",
    "plt.subplot(311)\n",
    "plt.xlabel(\"Pclass\", fontsize=13)\n",
    "plt.ylabel(\"Passengers\", fontsize=13)\n",
    "plt.hist(data['Pclass'], bins=5)\n",
    "plt.xticks([1.2, 2, 2.8], [1, 2, 3])\n",
    "\n",
    "# add a new subplot in second row\n",
    "# pclass vs total passengers survived\n",
    "plt.subplot(312)\n",
    "plt.xlabel(\"Pclass\", fontsize=13)\n",
    "plt.ylabel(\"Passengers Survived\", fontsize=13)\n",
    "plt.hist(data.loc[data['Survived'] != 0]['Pclass'], bins=5)\n",
    "plt.xticks([1.2, 2, 2.8], [1, 2, 3])\n",
    "\n",
    "# add a new subplot in 3rd row\n",
    "# pclass vs total passengers died\n",
    "plt.subplot(313)\n",
    "plt.xlabel(\"Pclass\", fontsize=13)\n",
    "plt.ylabel(\"Passengers Died\", fontsize=13)\n",
    "plt.hist(data.loc[data['Survived'] != 1]['Pclass'], bins=5)\n",
    "plt.xticks([1.2, 2, 2.8], [1, 2, 3])\n",
    "plt.show()"
   ]
  },
  {
   "cell_type": "markdown",
   "metadata": {
    "deletable": true,
    "editable": true
   },
   "source": [
    "<br/>\n",
    "### Comparing The Three using Central Tendency(Mean)\n",
    "Here we will compare the Total passengers with the number of people died and Survived using mean as a probability of a person bieng survived.\n",
    "<br/><br/>\n",
    "$$\n",
    "mean(\\text{Survive | Pclass}) = \\frac{\\text{No. of People Survived from Pclass}}{\\text{Total People in Pclass}}\n",
    "$$"
   ]
  },
  {
   "cell_type": "code",
   "execution_count": 5,
   "metadata": {
    "collapsed": false,
    "deletable": true,
    "editable": true
   },
   "outputs": [],
   "source": [
    "# make a group object based on pclass\n",
    "pclass_grouped = data.groupby(\"Pclass\")\n",
    "\n",
    "# Totale Passengers of each passenger class\n",
    "total_passengers = pclass_grouped.count()[\"Survived\"]\n",
    "# No. of Survived Passengers of each passenger class\n",
    "num_survived = pclass_grouped.sum()[\"Survived\"]\n",
    "# No. of Passengers of each passenger class who died\n",
    "num_died = total_passengers - num_survived\n",
    "# Mean Survival of Each class\n",
    "mean_survival = pclass_grouped.mean()[\"Survived\"]"
   ]
  },
  {
   "cell_type": "code",
   "execution_count": 6,
   "metadata": {
    "collapsed": false,
    "deletable": true,
    "editable": true
   },
   "outputs": [
    {
     "data": {
      "text/html": [
       "<div>\n",
       "<table border=\"1\" class=\"dataframe\">\n",
       "  <thead>\n",
       "    <tr style=\"text-align: right;\">\n",
       "      <th></th>\n",
       "      <th>Died</th>\n",
       "      <th>Survived</th>\n",
       "      <th>Total</th>\n",
       "      <th>Mean Survival</th>\n",
       "    </tr>\n",
       "  </thead>\n",
       "  <tbody>\n",
       "    <tr>\n",
       "      <th>1</th>\n",
       "      <td>80</td>\n",
       "      <td>136</td>\n",
       "      <td>216</td>\n",
       "      <td>0.629630</td>\n",
       "    </tr>\n",
       "    <tr>\n",
       "      <th>2</th>\n",
       "      <td>97</td>\n",
       "      <td>87</td>\n",
       "      <td>184</td>\n",
       "      <td>0.472826</td>\n",
       "    </tr>\n",
       "    <tr>\n",
       "      <th>3</th>\n",
       "      <td>372</td>\n",
       "      <td>119</td>\n",
       "      <td>491</td>\n",
       "      <td>0.242363</td>\n",
       "    </tr>\n",
       "  </tbody>\n",
       "</table>\n",
       "</div>"
      ],
      "text/plain": [
       "   Died  Survived  Total  Mean Survival\n",
       "1    80       136    216       0.629630\n",
       "2    97        87    184       0.472826\n",
       "3   372       119    491       0.242363"
      ]
     },
     "execution_count": 6,
     "metadata": {},
     "output_type": "execute_result"
    }
   ],
   "source": [
    "# Make a new data frame to show tabular\n",
    "# representation of the Survivals depending \n",
    "# on passenger class\n",
    "pclass_df = pd.DataFrame({\n",
    "        \"Total\": total_passengers,\n",
    "        \"Survived\": num_survived,\n",
    "        \"Died\": num_died,\n",
    "        \"Mean Survival\": mean_survival\n",
    "    },\n",
    "    index=[1, 2, 3],\n",
    "    columns=[\"Died\", \"Survived\", \"Total\", \"Mean Survival\"]\n",
    ")\n",
    "pclass_df"
   ]
  },
  {
   "cell_type": "markdown",
   "metadata": {
    "deletable": true,
    "editable": true
   },
   "source": [
    "**The number of mean survivals of 1st Passenger class (which are significantly less in number), clearly depicts the preference \n",
    "of the situation and how upper class had a better chance at survival than others.**<br/><br/>\n",
    "\n",
    "\n",
    "### Performing z-test to verify the hypothesis\n",
    "\n",
    "How to prove the hypothesis that 1st class passengers had a better chance at survival?<br/>\n",
    "Since the samples come from the population on the ship, we perform z-test to check if the upper class had better chance at survival than the population it is taken from. Our Hypothesis<br/>\n",
    "$$\n",
    "H_0: \\text{ Upper class Didn't have better chance at survival}\n",
    "$$\n",
    "<br/>\n",
    "$$\n",
    "H_1: \\text{ Upper class had better chance at survival}\n",
    "$$\n",
    "<br/>\n",
    "$$\n",
    "z = \\frac{\\text{sample mean} - \\text{Population Mean}}{\\text{Population Std / number of samples}}\n",
    "$$\n",
    "**alpha = 0.05<br/>\n",
    "It is a positive z-test to check if Chances of Survival of Upper class is greater than Chances of Survival for Population.**"
   ]
  },
  {
   "cell_type": "code",
   "execution_count": 7,
   "metadata": {
    "collapsed": false,
    "deletable": true,
    "editable": true
   },
   "outputs": [
    {
     "name": "stdout",
     "output_type": "stream",
     "text": [
      "Z-score:  7.423828259\n"
     ]
    }
   ],
   "source": [
    "def z_test(sample, population):\n",
    "    sample_mean = sample.mean()\n",
    "    population_mean = population.mean()\n",
    "    std_population = population.std()\n",
    "    n = sample.shape[0]\n",
    "    den = std_population / np.sqrt(n)\n",
    "    \n",
    "    return (sample_mean - population_mean) / den\n",
    "\n",
    "print(\"Z-score: \", z_test(data[data[\"Pclass\"] ==1][\"Survived\"], data[\"Survived\"]))"
   ]
  },
  {
   "cell_type": "markdown",
   "metadata": {
    "deletable": true,
    "editable": true
   },
   "source": [
    "**Z-score for Positive z-test with alpha level 0.05 equals 1.645.**<br/>\n",
    "**Z-score of survival of upper class (7.42) is significantly more than that of the population. This clearly indicates that upper class had a far better chance at survival.**"
   ]
  },
  {
   "cell_type": "markdown",
   "metadata": {
    "deletable": true,
    "editable": true
   },
   "source": [
    "<hr>\n",
    "### Tackling Question 2\n",
    "Q. **Which gender survived more. In other words, does male part survived in more numbers, or does the female part. There can be many good reasons behind this question.**<br/><br/>\n",
    "Reasons for putting up this question:\n",
    "1. Males' generally have more agiltiy than females'\n",
    "2. In case of a disaster male of the house tries to protect his family members, yes the other way around is possible but in a more general case the first one seems legit."
   ]
  },
  {
   "cell_type": "markdown",
   "metadata": {
    "deletable": true,
    "editable": true
   },
   "source": [
    "Let's Have a sneak peek at visualizations"
   ]
  },
  {
   "cell_type": "code",
   "execution_count": 8,
   "metadata": {
    "collapsed": false,
    "deletable": true,
    "editable": true
   },
   "outputs": [],
   "source": [
    "# Extract and Male and Female Survival Data\n",
    "male_data = data[data[\"Sex\"]==\"male\"][\"Survived\"]\n",
    "female_data = data[data[\"Sex\"]==\"female\"][\"Survived\"]"
   ]
  },
  {
   "cell_type": "code",
   "execution_count": 9,
   "metadata": {
    "collapsed": false,
    "deletable": true,
    "editable": true
   },
   "outputs": [
    {
     "data": {
      "text/plain": [
       "Survived Female    233\n",
       "Survived Male      109\n",
       "Total Female       314\n",
       "Total Male         577\n",
       "dtype: int64"
      ]
     },
     "execution_count": 9,
     "metadata": {},
     "output_type": "execute_result"
    }
   ],
   "source": [
    "# dictionary to create a Pandas Series to plot graph\n",
    "d = {\n",
    "    \"Total Male\": male_data.shape[0],\n",
    "    \"Total Female\": female_data.shape[0],\n",
    "    \"Survived Male\": male_data.sum(),\n",
    "    \"Survived Female\": female_data.sum()\n",
    "}\n",
    "\n",
    "d_keys_vals = [1, 2, 3, 4]\n",
    "se = pd.Series(d)\n",
    "se"
   ]
  },
  {
   "cell_type": "code",
   "execution_count": 10,
   "metadata": {
    "collapsed": false,
    "deletable": true,
    "editable": true
   },
   "outputs": [
    {
     "data": {
      "image/png": "[encoded data removed]",
      "text/plain": [
       "<matplotlib.figure.Figure at 0x15148c74e80>"
      ]
     },
     "metadata": {},
     "output_type": "display_data"
    }
   ],
   "source": [
    "plt.figure(1, figsize=(17, 5))\n",
    "plt.suptitle(\"Gender-wise Visual Comparison of Survived and Died People\", fontsize=18)\n",
    "\n",
    "plt.subplot(121)\n",
    "plt.ylabel(\"Count\", fontsize=13)\n",
    "plt.bar(d_keys_vals, se[:])\n",
    "plt.xticks(d_keys_vals, se.index.values, fontsize=13)\n",
    "\n",
    "plt.subplot(122)\n",
    "plt.xlim(-0.2, 1.2)\n",
    "plt.scatter(np.zeros(male_data.shape), male_data, color=\"red\", s=male_data.sum()*10)\n",
    "plt.scatter(np.ones(female_data.shape), female_data, color=\"blue\", s=female_data.sum()*10)\n",
    "plt.xticks([0, 1], [\"Male\", \"Female\"], fontsize=13)\n",
    "plt.yticks([0, 1], [\"Died\", \"Survived\"], fontsize=13)\n",
    "\n",
    "plt.show()"
   ]
  },
  {
   "cell_type": "markdown",
   "metadata": {
    "deletable": true,
    "editable": true
   },
   "source": [
    "That's seems preety unusual, for such a large number of males (approximately twice that of females) the number of survivors are less than a half compared to the number of women.<br/>\n",
    "Let's see some descriptive statistical terms over these."
   ]
  },
  {
   "cell_type": "code",
   "execution_count": 11,
   "metadata": {
    "collapsed": false,
    "deletable": true,
    "editable": true
   },
   "outputs": [
    {
     "data": {
      "text/plain": [
       "count    577.000000\n",
       "mean       0.188908\n",
       "std        0.391775\n",
       "min        0.000000\n",
       "25%        0.000000\n",
       "50%        0.000000\n",
       "75%        0.000000\n",
       "max        1.000000\n",
       "Name: Survived, dtype: float64"
      ]
     },
     "execution_count": 11,
     "metadata": {},
     "output_type": "execute_result"
    }
   ],
   "source": [
    "# Desciding Male Data Params\n",
    "male_data.describe()"
   ]
  },
  {
   "cell_type": "code",
   "execution_count": 12,
   "metadata": {
    "collapsed": false,
    "deletable": true,
    "editable": true
   },
   "outputs": [
    {
     "data": {
      "text/plain": [
       "count    314.000000\n",
       "mean       0.742038\n",
       "std        0.438211\n",
       "min        0.000000\n",
       "25%        0.000000\n",
       "50%        1.000000\n",
       "75%        1.000000\n",
       "max        1.000000\n",
       "Name: Survived, dtype: float64"
      ]
     },
     "execution_count": 12,
     "metadata": {},
     "output_type": "execute_result"
    }
   ],
   "source": [
    "# Describing Female Data Params\n",
    "female_data.describe()"
   ]
  },
  {
   "cell_type": "markdown",
   "metadata": {
    "deletable": true,
    "editable": true
   },
   "source": [
    "**Surprising Results of Quartiles and means**\n",
    "<br/>Looking at the results, it is clear that number of males survived is around 18.9% while number of females survived is 74.3% (Remember survived = 1;died = 0, So mean will give the fraction of males and females survived which is converted to percentage above).<br/><br/>\n",
    "Looking at the 25%, 50% and 75% Quartiles, it is clear that value 1 (survived) lie in a distant corner for males. While it covers almost 50% in case of females.<br/>\n",
    "<br/>\n",
    "**The results clearly depict that a female had a more chance at survival than a male. Going by the numbers the chances were almost 4 times.**"
   ]
  },
  {
   "cell_type": "markdown",
   "metadata": {
    "deletable": true,
    "editable": true
   },
   "source": [
    "<hr>\n",
    "### Tackling Question 3\n",
    "Q. **Which parameter have more effect over survival, sex or age?**\n",
    "<br/>\n",
    "<br/>\n",
    "Surely, female to male comparison was drastic, but what about sex vs age. Does the age of a person matters more compared to the sex, may be children had a better chance, or may be aged people survived more. \n",
    "<br/>\n",
    "<br/>\n",
    "**NOTE: There are some missing values in the Age column, which are removed from dataset to form a new dataset for to answer this question.**<br/>\n",
    "Why not make them 0? This could hurt the distribution as 177 of the age values are missing and in turn can have effect on our data."
   ]
  },
  {
   "cell_type": "code",
   "execution_count": 13,
   "metadata": {
    "collapsed": false,
    "deletable": true,
    "editable": true
   },
   "outputs": [
    {
     "name": "stdout",
     "output_type": "stream",
     "text": [
      "(714, 3)\n"
     ]
    },
    {
     "data": {
      "text/html": [
       "<div>\n",
       "<table border=\"1\" class=\"dataframe\">\n",
       "  <thead>\n",
       "    <tr style=\"text-align: right;\">\n",
       "      <th></th>\n",
       "      <th>Survived</th>\n",
       "      <th>Age</th>\n",
       "      <th>Sex</th>\n",
       "    </tr>\n",
       "    <tr>\n",
       "      <th>PassengerId</th>\n",
       "      <th></th>\n",
       "      <th></th>\n",
       "      <th></th>\n",
       "    </tr>\n",
       "  </thead>\n",
       "  <tbody>\n",
       "    <tr>\n",
       "      <th>1</th>\n",
       "      <td>0</td>\n",
       "      <td>22.0</td>\n",
       "      <td>male</td>\n",
       "    </tr>\n",
       "    <tr>\n",
       "      <th>2</th>\n",
       "      <td>1</td>\n",
       "      <td>38.0</td>\n",
       "      <td>female</td>\n",
       "    </tr>\n",
       "    <tr>\n",
       "      <th>3</th>\n",
       "      <td>1</td>\n",
       "      <td>26.0</td>\n",
       "      <td>female</td>\n",
       "    </tr>\n",
       "    <tr>\n",
       "      <th>4</th>\n",
       "      <td>1</td>\n",
       "      <td>35.0</td>\n",
       "      <td>female</td>\n",
       "    </tr>\n",
       "    <tr>\n",
       "      <th>5</th>\n",
       "      <td>0</td>\n",
       "      <td>35.0</td>\n",
       "      <td>male</td>\n",
       "    </tr>\n",
       "  </tbody>\n",
       "</table>\n",
       "</div>"
      ],
      "text/plain": [
       "             Survived   Age     Sex\n",
       "PassengerId                        \n",
       "1                   0  22.0    male\n",
       "2                   1  38.0  female\n",
       "3                   1  26.0  female\n",
       "4                   1  35.0  female\n",
       "5                   0  35.0    male"
      ]
     },
     "execution_count": 13,
     "metadata": {},
     "output_type": "execute_result"
    }
   ],
   "source": [
    "# Extract Age and Sex data with Survival Results\n",
    "age_vs_sex_data = data[[\"Survived\", \"Age\", \"Sex\"]]\n",
    "# remove NaN values\n",
    "age_vs_sex_data = age_vs_sex_data.dropna()\n",
    "\n",
    "print(age_vs_sex_data.shape)\n",
    "# Convert to Numpy matrix\n",
    "age_vs_sex_arr = age_vs_sex_data.as_matrix()\n",
    "# first 5 rows of data\n",
    "age_vs_sex_data.head()"
   ]
  },
  {
   "cell_type": "markdown",
   "metadata": {
    "deletable": true,
    "editable": true
   },
   "source": [
    "Let us look at the plots of the dataset to get the feel of what was the fraction of males or females and what was the median age of the passengers present."
   ]
  },
  {
   "cell_type": "code",
   "execution_count": 14,
   "metadata": {
    "collapsed": false,
    "deletable": true,
    "editable": true
   },
   "outputs": [
    {
     "data": {
      "image/png": "[encoded data removed]",
      "text/plain": [
       "<matplotlib.figure.Figure at 0x15148d64e48>"
      ]
     },
     "metadata": {},
     "output_type": "display_data"
    }
   ],
   "source": [
    "plt.figure(1, figsize=(15, 5))\n",
    "plt.suptitle(\"Gender-wise People Present compared to Quartile Representation of Age\", fontsize=18)\n",
    "\n",
    "plt.subplot(121)\n",
    "plt.ylabel(\"Count\", fontsize=13)\n",
    "plt.bar(d_keys_vals[2:], se[2:])\n",
    "plt.xticks(d_keys_vals[2:], se.index.values[2:], fontsize=13)\n",
    "\n",
    "plt.subplot(122)\n",
    "plt.figure(1, figsize=(8, 5))\n",
    "plt.boxplot(age_vs_sex_arr[:, 1])\n",
    "plt.xticks([1], [\"Quartile Representation\"], fontsize=13)\n",
    "plt.ylabel(\"Age\", fontsize=13)\n",
    "\n",
    "plt.show()"
   ]
  },
  {
   "cell_type": "markdown",
   "metadata": {
    "deletable": true,
    "editable": true
   },
   "source": [
    "As we looked in question 2, the number of males were almost twice as compared to number of females. Now we can also see that the median age of the people present was around 27 or so with a few people (outlier) with age 70 and above. We can safely thus assume that there were more of young people with age between 19 to 27 and more than 50% of these people were males."
   ]
  },
  {
   "cell_type": "markdown",
   "metadata": {
    "deletable": true,
    "editable": true
   },
   "source": [
    "#### Using Scikit-learn's Logistic Regression weights\n",
    "We can use machine learning library Scikit-Learn (sklearn) to find which field have more effect. <br/>\n",
    "Logistic Regression Passes a weighted sum of the parameters to a function that gives the probability of something happening. In this case probability of Survival. The coefficient of the parameter gives us the share of the parameter in defining the probability. <br/><br/>\n",
    "In other words Logistic Regression gives more weightage to the parameter which have more effect on survival.<br/><br/>\n",
    "$$\n",
    "P(Survival) = \\text{Some Function}({w_1}{Age} + {w_2}{Sex} + w_3)\n",
    "$$\n",
    "\n",
    "<br/>\n",
    "Where,\n",
    "1. $w_1 = \\text{Coefficient of Age Parameter}$\n",
    "2. $w_2 = \\text{Coefficient of Sex Parameter}$\n",
    "3. $w_3 = \\text{Bias}$ \n",
    "<br/><br/>\n",
    "Let's see who affect survival more Age or Sex"
   ]
  },
  {
   "cell_type": "code",
   "execution_count": 15,
   "metadata": {
    "collapsed": false,
    "deletable": true,
    "editable": true
   },
   "outputs": [
    {
     "data": {
      "text/plain": [
       "array([  0.,  22.,   0.])"
      ]
     },
     "execution_count": 15,
     "metadata": {},
     "output_type": "execute_result"
    }
   ],
   "source": [
    "# Converting Males to 0 and Females to 1\n",
    "# as Logistic Regression only work on numbers\n",
    "age_vs_sex_arr[age_vs_sex_arr == \"male\"] = 0\n",
    "age_vs_sex_arr[age_vs_sex_arr == \"female\"] = 1\n",
    "\n",
    "# Convert type from object to float\n",
    "age_vs_sex_arr = age_vs_sex_arr.astype(\"float64\")\n",
    "# Sanity check of to see if everything is fine\n",
    "age_vs_sex_arr[0]"
   ]
  },
  {
   "cell_type": "code",
   "execution_count": 16,
   "metadata": {
    "collapsed": false,
    "deletable": true,
    "editable": true
   },
   "outputs": [
    {
     "name": "stdout",
     "output_type": "stream",
     "text": [
      "Shapes\n",
      "------------------------------\n",
      "Feature Train   | Labels\n",
      "(714, 2) \t| (714,)\n"
     ]
    }
   ],
   "source": [
    "# Divide array into Features to train on and Labels to predict\n",
    "features_train, labels_train = age_vs_sex_arr[:, 1:], age_vs_sex_arr[:, 0]\n",
    "print(\"Shapes\")\n",
    "print(\"-\"*30)\n",
    "print(\"Feature Train\", \"  |\", \"Labels\")\n",
    "print(features_train.shape, \"\\t|\", labels_train.shape)"
   ]
  },
  {
   "cell_type": "code",
   "execution_count": 17,
   "metadata": {
    "collapsed": false,
    "deletable": true,
    "editable": true
   },
   "outputs": [
    {
     "data": {
      "text/plain": [
       "LogisticRegression(C=1.0, class_weight=None, dual=False, fit_intercept=True,\n",
       "          intercept_scaling=1, max_iter=100, multi_class='ovr', n_jobs=1,\n",
       "          penalty='l2', random_state=None, solver='liblinear', tol=0.0001,\n",
       "          verbose=0, warm_start=False)"
      ]
     },
     "execution_count": 17,
     "metadata": {},
     "output_type": "execute_result"
    }
   ],
   "source": [
    "# import a Logistic Regression and fit our params\n",
    "from sklearn.linear_model import LogisticRegression as LR\n",
    "clf = LR()\n",
    "clf.fit(features_train, labels_train)"
   ]
  },
  {
   "cell_type": "code",
   "execution_count": 18,
   "metadata": {
    "collapsed": false,
    "deletable": true,
    "editable": true
   },
   "outputs": [
    {
     "name": "stdout",
     "output_type": "stream",
     "text": [
      "Coefficient of Age:  -0.00685726104415\n",
      "Coefficient of Sex (Female being 1 and Male being 0):  2.3689876631\n",
      "Bias:  [-1.09940297]\n",
      "--------------------------------------------------------------------------------\n",
      "Accuracy of the Classifier:  0.780112044818\n"
     ]
    }
   ],
   "source": [
    "# have a look at coefficients, Bias and Accuracy \n",
    "# on training set only\n",
    "print(\"Coefficient of Age: \", clf.coef_[0, 0])\n",
    "print(\"Coefficient of Sex (Female being 1 and Male being 0): \", clf.coef_[0, 1])\n",
    "print(\"Bias: \", clf.intercept_)\n",
    "print(\"-\"*80)\n",
    "print(\"Accuracy of the Classifier: \", clf.score(features_train, labels_train))"
   ]
  },
  {
   "cell_type": "markdown",
   "metadata": {
    "deletable": true,
    "editable": true
   },
   "source": [
    "**Numbers Speak**<br/>\n",
    "The Coefficient of Sex of the passenger being so high certainly speaks for itself, that how the sex majorly dominated over the survival rate compared to the age of the survivor. And the fact that it is positively correlated also speaks for being female **strongly correlated** to survival.<br/>\n",
    "Remember Correlation not equals causation."
   ]
  },
  {
   "cell_type": "markdown",
   "metadata": {
    "deletable": true,
    "editable": true
   },
   "source": [
    "<hr>\n",
    "\n",
    "## Conclusion of Findings\n",
    "The finidings aren't purely statistically proven but the number does give us a clear idea on how the **female survival dominated male survival** and how this dominance was also over the age. By looking at data we can assume that the **affect of more male deaths must had a transferring on the age factor**, as more of the majority gender died. The other factor that really intrigued my attention was the dominance of upper class in a situation like this too.\n",
    "\n",
    "#### Limitations of Project\n",
    "The project depicts use of statistical knowledge like using z-test and predictive regression model. **But imporvements can be made like comparison of Female and Male samples as Samples from different population and then using the two sample t-test the hypothesis can be tested. The one pointed out is just an example there are a few more which can be corrected using statistical knowledge**\n",
    "\n",
    "## Future Plans\n",
    "This report covers only 3 of the main Parameters - Age, Sex and Passenger Class. There are many more degrees of freedom present in the data. For example, the following questions can still be tackled:\n",
    "1. Fare of a ticket represents the economic status of a person. (To my common sense; may not be always true). Does a person with a ticket of higher fare have higher chances of survival or not?<br/><br/>\n",
    "2. Does the deck of the cabin ensures the survival? (There will be some decks which filled with water fast as compared to others depending on the place of impact).<br/><br/>\n",
    "3. What about the title of the person in the name (Mr., Mrs. Miss, etc.), does it ensures survival?"
   ]
  }
 ],
 "metadata": {
  "kernelspec": {
   "display_name": "Python 3",
   "language": "python",
   "name": "python3"
  },
  "language_info": {
   "codemirror_mode": {
    "name": "ipython",
    "version": 3
   },
   "file_extension": ".py",
   "mimetype": "text/x-python",
   "name": "python",
   "nbconvert_exporter": "python",
   "pygments_lexer": "ipython3",
   "version": "3.5.1"
  }
 },
 "nbformat": 4,
 "nbformat_minor": 2
}
